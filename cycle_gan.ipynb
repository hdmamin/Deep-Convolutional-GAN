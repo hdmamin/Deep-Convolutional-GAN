{
 "cells": [
  {
   "cell_type": "code",
   "execution_count": 1,
   "metadata": {
    "ExecuteTime": {
     "end_time": "2019-06-16T21:53:03.380459Z",
     "start_time": "2019-06-16T21:53:03.226601Z"
    }
   },
   "outputs": [],
   "source": [
    "%load_ext autoreload\n",
    "%autoreload 2\n",
    "%matplotlib inline"
   ]
  },
  {
   "cell_type": "code",
   "execution_count": 1,
   "metadata": {
    "ExecuteTime": {
     "end_time": "2019-06-23T23:42:13.289465Z",
     "start_time": "2019-06-23T23:42:06.872568Z"
    }
   },
   "outputs": [
    {
     "name": "stdout",
     "output_type": "stream",
     "text": [
      "Files already downloaded and verified\n"
     ]
    }
   ],
   "source": [
    "from collections import defaultdict\n",
    "import cv2\n",
    "import gc\n",
    "from itertools import chain\n",
    "import matplotlib.pyplot as plt\n",
    "import matplotlib\n",
    "import numpy as np\n",
    "import torch\n",
    "import torch.nn as nn\n",
    "import torch.nn.functional as F\n",
    "import torchvision.utils as vutils\n",
    "from torchvision.models import resnet18\n",
    "\n",
    "from config import *\n",
    "from htools import hdir\n",
    "from models import (conv_block, ResBlock, GRelu, JRelu, BaseModel,\n",
    "                    CycleGenerator, Discriminator)\n",
    "from torch_datasets import sketch_dl, photo_dl\n",
    "from training import get_cycle_models, train_cycle_gan\n",
    "from utils import render_samples, show_img, show_samples"
   ]
  },
  {
   "cell_type": "code",
   "execution_count": 221,
   "metadata": {
    "ExecuteTime": {
     "end_time": "2019-06-14T01:10:29.304071Z",
     "start_time": "2019-06-14T01:10:28.701834Z"
    }
   },
   "outputs": [],
   "source": [
    "x, y = next(iter(photo_dl))"
   ]
  },
  {
   "cell_type": "code",
   "execution_count": 222,
   "metadata": {
    "ExecuteTime": {
     "end_time": "2019-06-14T01:10:30.199220Z",
     "start_time": "2019-06-14T01:10:29.307705Z"
    }
   },
   "outputs": [
    {
     "data": {
      "text/plain": [
       "torch.Size([64, 3, 64, 64])"
      ]
     },
     "execution_count": 222,
     "metadata": {},
     "output_type": "execute_result"
    }
   ],
   "source": [
    "G = CycleGenerator()\n",
    "y_fake = G(x)\n",
    "y_fake.shape"
   ]
  },
  {
   "cell_type": "code",
   "execution_count": 233,
   "metadata": {
    "ExecuteTime": {
     "end_time": "2019-06-14T01:13:22.811448Z",
     "start_time": "2019-06-14T01:13:22.027717Z"
    }
   },
   "outputs": [],
   "source": [
    "D = PretrainedDiscriminator()\n",
    "pred_y_fake = D(y_fake)"
   ]
  },
  {
   "cell_type": "code",
   "execution_count": 4,
   "metadata": {
    "ExecuteTime": {
     "end_time": "2019-06-23T23:43:21.662527Z",
     "start_time": "2019-06-23T23:43:16.680678Z"
    }
   },
   "outputs": [
    {
     "name": "stdout",
     "output_type": "stream",
     "text": [
      "All models currently in training mode.\n"
     ]
    }
   ],
   "source": [
    "m = get_cycle_models()"
   ]
  },
  {
   "cell_type": "code",
   "execution_count": 2,
   "metadata": {
    "ExecuteTime": {
     "end_time": "2019-06-23T23:42:42.955063Z",
     "start_time": "2019-06-23T23:42:42.951976Z"
    },
    "scrolled": true
   },
   "outputs": [],
   "source": [
    "stats = train_cycle_gan(5, photo_dl, sketch_dl, 'samples_cycle_photo', \n",
    "                        'samples_cycle_sketch', sample_freq=1)"
   ]
  },
  {
   "cell_type": "code",
   "execution_count": 265,
   "metadata": {
    "ExecuteTime": {
     "end_time": "2019-06-09T21:09:03.500347Z",
     "start_time": "2019-06-09T21:09:03.371769Z"
    }
   },
   "outputs": [],
   "source": [
    "G_xy = CycleGenerator(img_c, ngf)\n",
    "G_yx = CycleGenerator()"
   ]
  },
  {
   "cell_type": "code",
   "execution_count": 259,
   "metadata": {
    "ExecuteTime": {
     "end_time": "2019-06-09T21:08:12.090798Z",
     "start_time": "2019-06-09T21:08:11.982648Z"
    }
   },
   "outputs": [],
   "source": [
    "D = Discriminator(ndf)"
   ]
  },
  {
   "cell_type": "code",
   "execution_count": 261,
   "metadata": {
    "ExecuteTime": {
     "end_time": "2019-06-09T21:08:24.031139Z",
     "start_time": "2019-06-09T21:08:23.959237Z"
    }
   },
   "outputs": [
    {
     "data": {
      "text/plain": [
       "torch.Size([2, 3, 4, 4])"
      ]
     },
     "execution_count": 261,
     "metadata": {},
     "output_type": "execute_result"
    }
   ],
   "source": [
    "x.shape"
   ]
  },
  {
   "cell_type": "code",
   "execution_count": 272,
   "metadata": {
    "ExecuteTime": {
     "end_time": "2019-06-09T21:09:47.718202Z",
     "start_time": "2019-06-09T21:09:47.630443Z"
    }
   },
   "outputs": [
    {
     "data": {
      "text/plain": [
       "torch.Size([2, 3, 4, 4])"
      ]
     },
     "execution_count": 272,
     "metadata": {},
     "output_type": "execute_result"
    }
   ],
   "source": [
    "y_hat = G_xy(x)\n",
    "y_hat.shape"
   ]
  },
  {
   "cell_type": "code",
   "execution_count": 271,
   "metadata": {
    "ExecuteTime": {
     "end_time": "2019-06-09T21:09:44.428977Z",
     "start_time": "2019-06-09T21:09:44.338454Z"
    }
   },
   "outputs": [
    {
     "data": {
      "text/plain": [
       "torch.Size([2, 3, 4, 4])"
      ]
     },
     "execution_count": 271,
     "metadata": {},
     "output_type": "execute_result"
    }
   ],
   "source": [
    "G_yx(y_hat).shape"
   ]
  }
 ],
 "metadata": {
  "kernelspec": {
   "display_name": "Python 3",
   "language": "python",
   "name": "python3"
  },
  "language_info": {
   "codemirror_mode": {
    "name": "ipython",
    "version": 3
   },
   "file_extension": ".py",
   "mimetype": "text/x-python",
   "name": "python",
   "nbconvert_exporter": "python",
   "pygments_lexer": "ipython3",
   "version": "3.7.2"
  }
 },
 "nbformat": 4,
 "nbformat_minor": 2
}
