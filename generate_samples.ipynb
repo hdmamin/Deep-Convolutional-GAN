{
 "cells": [
  {
   "cell_type": "code",
   "execution_count": 8,
   "metadata": {
    "ExecuteTime": {
     "end_time": "2019-07-08T04:59:13.405284Z",
     "start_time": "2019-07-08T04:59:13.375055Z"
    }
   },
   "outputs": [],
   "source": [
    "%load_ext autoreload\n",
    "%autoreload 2"
   ]
  },
  {
   "cell_type": "code",
   "execution_count": 9,
   "metadata": {
    "ExecuteTime": {
     "end_time": "2019-07-08T04:59:14.129187Z",
     "start_time": "2019-07-08T04:59:14.110882Z"
    }
   },
   "outputs": [],
   "source": [
    "import matplotlib.pyplot as plt\n",
    "import numpy as np\n",
    "import os\n",
    "import pandas as pd\n",
    "import torch\n",
    "import torchvision.utils as vutils\n",
    "\n",
    "from models import Generator, JRelu\n",
    "from torch_datasets import cat_dl\n",
    "from utils import show_samples, save_real_batch"
   ]
  },
  {
   "cell_type": "code",
   "execution_count": 41,
   "metadata": {
    "ExecuteTime": {
     "end_time": "2019-07-08T00:54:51.864856Z",
     "start_time": "2019-07-08T00:54:51.861245Z"
    }
   },
   "outputs": [],
   "source": [
    "def load_generator(weight_path, activation, norm='bn'):\n",
    "    \"\"\"Load weights and return a DC Generator. Model remains in train mode\n",
    "    even at test time.\n",
    "    \"\"\"\n",
    "    G = Generator(act=activation, norm=norm)\n",
    "    states = torch.load(weight_path)\n",
    "    G.load_state_dict(states['g'])\n",
    "    G.train()\n",
    "    print(f'Weights loaded from {weight_path}.')\n",
    "    return G"
   ]
  },
  {
   "cell_type": "code",
   "execution_count": 155,
   "metadata": {
    "ExecuteTime": {
     "end_time": "2019-07-08T01:27:40.488975Z",
     "start_time": "2019-07-08T01:27:40.483206Z"
    }
   },
   "outputs": [],
   "source": [
    "def generate_dc_samples(model, output_dir, fname, samples=64, noise=None,\n",
    "                        threshold=None):\n",
    "    \"\"\"\n",
    "    Parameters\n",
    "    -----------\n",
    "    model: nn.Module\n",
    "        Generator\n",
    "    output_dir: str\n",
    "        Location to save generated samples.\n",
    "    fname: str\n",
    "        Name of output image file.\n",
    "    samples: int\n",
    "        Number of samples to generate.\n",
    "    noise: torch.tensor or None\n",
    "        If None, new random noise will be generated. When generating samples \n",
    "        for many different sets of weights, this means we can choose to use \n",
    "        the same noise or different noise for each sample.\n",
    "    threshold: float or None\n",
    "        If not None, use for post-processing to filter what values should be\n",
    "        counted as black.\n",
    "    \"\"\"\n",
    "    os.makedirs(output_dir, exist_ok=True)\n",
    "    path = os.path.join(output_dir, fname)\n",
    "    if noise is None:\n",
    "        noise = torch.randn(samples, 100, 1, 1)\n",
    "    with torch.no_grad():\n",
    "        fake = model(noise).detach()\n",
    "    if threshold:\n",
    "        fake = (fake.mean(0) < thresh).astype(float)\n",
    "    vutils.save_image(fake, path, normalize=True, \n",
    "                      nrow=int(np.sqrt(samples)))\n",
    "    print(f'Output image saved to {path}.')"
   ]
  },
  {
   "cell_type": "code",
   "execution_count": 157,
   "metadata": {
    "ExecuteTime": {
     "end_time": "2019-07-08T01:28:09.823441Z",
     "start_time": "2019-07-08T01:28:09.819143Z"
    }
   },
   "outputs": [],
   "source": [
    "def multi_model_samples(weight_paths, output_dir, act, norm='bn', \n",
    "                        samples=64, fixed=True, threshold=None):\n",
    "    if fixed:\n",
    "        noise = torch.randn(samples, 100, 1, 1)\n",
    "    else:\n",
    "        noise = None\n",
    "    for i, path in enumerate(weight_paths):\n",
    "        G = load_generator(path, act, norm)\n",
    "        output_fname = f\"{path.split('/')[-1].strip('.pth')}.png\"\n",
    "        generate_dc_samples(G, output_dir, output_fname, samples, noise, \n",
    "                            threshold)\n",
    "        print()"
   ]
  },
  {
   "cell_type": "code",
   "execution_count": 4,
   "metadata": {
    "ExecuteTime": {
     "end_time": "2019-07-08T04:55:22.521487Z",
     "start_time": "2019-07-08T04:55:22.518024Z"
    }
   },
   "outputs": [],
   "source": [
    "weight_dir = 'cat_samples5'\n",
    "output_dir = 'cat_samples_misc'\n",
    "epochs = [5, 6, 7, 8, 10, 12, 13, 14, 15, 31, 41, 44]\n",
    "fnames = [os.path.join(weight_dir, f'{e}.pth') for e in epochs]"
   ]
  },
  {
   "cell_type": "code",
   "execution_count": 158,
   "metadata": {
    "ExecuteTime": {
     "end_time": "2019-07-08T01:28:21.019786Z",
     "start_time": "2019-07-08T01:28:12.086372Z"
    }
   },
   "outputs": [
    {
     "name": "stdout",
     "output_type": "stream",
     "text": [
      "Weights loaded from cat_samples5/5.pth.\n",
      "Output image saved to cat_samples_misc/5.png.\n",
      "\n",
      "Weights loaded from cat_samples5/6.pth.\n",
      "Output image saved to cat_samples_misc/6.png.\n",
      "\n",
      "Weights loaded from cat_samples5/7.pth.\n",
      "Output image saved to cat_samples_misc/7.png.\n",
      "\n",
      "Weights loaded from cat_samples5/8.pth.\n",
      "Output image saved to cat_samples_misc/8.png.\n",
      "\n",
      "Weights loaded from cat_samples5/10.pth.\n",
      "Output image saved to cat_samples_misc/10.png.\n",
      "\n",
      "Weights loaded from cat_samples5/12.pth.\n",
      "Output image saved to cat_samples_misc/12.png.\n",
      "\n",
      "Weights loaded from cat_samples5/13.pth.\n",
      "Output image saved to cat_samples_misc/13.png.\n",
      "\n",
      "Weights loaded from cat_samples5/14.pth.\n",
      "Output image saved to cat_samples_misc/14.png.\n",
      "\n",
      "Weights loaded from cat_samples5/15.pth.\n",
      "Output image saved to cat_samples_misc/15.png.\n",
      "\n",
      "Weights loaded from cat_samples5/31.pth.\n",
      "Output image saved to cat_samples_misc/31.png.\n",
      "\n",
      "Weights loaded from cat_samples5/41.pth.\n",
      "Output image saved to cat_samples_misc/41.png.\n",
      "\n",
      "Weights loaded from cat_samples5/44.pth.\n",
      "Output image saved to cat_samples_misc/44.png.\n",
      "\n"
     ]
    }
   ],
   "source": [
    "multi_model_samples(fnames, output_dir, JRelu, samples=144)"
   ]
  },
  {
   "cell_type": "markdown",
   "metadata": {},
   "source": [
    "### Scratch"
   ]
  },
  {
   "cell_type": "code",
   "execution_count": 81,
   "metadata": {
    "ExecuteTime": {
     "end_time": "2019-07-08T01:10:45.089723Z",
     "start_time": "2019-07-08T01:10:44.983775Z"
    }
   },
   "outputs": [
    {
     "name": "stdout",
     "output_type": "stream",
     "text": [
      "Weights loaded from cat_samples5/10.pth.\n"
     ]
    }
   ],
   "source": [
    "G = load_generator(fnames[4], JRelu)\n",
    "noise = torch.randn(2, 100, 1, 1)\n",
    "out = G(noise).detach().numpy()"
   ]
  },
  {
   "cell_type": "code",
   "execution_count": 132,
   "metadata": {
    "ExecuteTime": {
     "end_time": "2019-07-08T01:21:37.641905Z",
     "start_time": "2019-07-08T01:21:37.611955Z"
    }
   },
   "outputs": [
    {
     "data": {
      "text/plain": [
       "0.0    11320\n",
       "1.0      968\n",
       "dtype: int64"
      ]
     },
     "execution_count": 132,
     "metadata": {},
     "output_type": "execute_result"
    }
   ],
   "source": [
    "pd.value_counts((out[0] < -.75).astype(float).ravel())"
   ]
  },
  {
   "cell_type": "code",
   "execution_count": 135,
   "metadata": {
    "ExecuteTime": {
     "end_time": "2019-07-08T01:22:19.137487Z",
     "start_time": "2019-07-08T01:22:19.131518Z"
    }
   },
   "outputs": [
    {
     "data": {
      "text/plain": [
       "1.0    11473\n",
       "0.0      815\n",
       "dtype: int64"
      ]
     },
     "execution_count": 135,
     "metadata": {},
     "output_type": "execute_result"
    }
   ],
   "source": [
    "pd.value_counts(1 - (out[1] < -.95).astype(float).ravel())"
   ]
  },
  {
   "cell_type": "code",
   "execution_count": 154,
   "metadata": {
    "ExecuteTime": {
     "end_time": "2019-07-08T01:25:11.476344Z",
     "start_time": "2019-07-08T01:25:11.428207Z"
    }
   },
   "outputs": [
    {
     "data": {
      "image/png": "[encoded data removed]",
      "text/plain": [
       "<Figure size 108x108 with 1 Axes>"
      ]
     },
     "metadata": {
      "needs_background": "light"
     },
     "output_type": "display_data"
    }
   ],
   "source": [
    "fig, ax = plt.subplots(figsize=(1.5, 1.5))\n",
    "plt.imshow((out[1].mean(0) < -.5).astype(float), \n",
    "           cmap='Greys')\n",
    "plt.show()"
   ]
  },
  {
   "cell_type": "code",
   "execution_count": 15,
   "metadata": {
    "ExecuteTime": {
     "end_time": "2019-07-08T05:01:21.592413Z",
     "start_time": "2019-07-08T05:01:21.551634Z"
    }
   },
   "outputs": [],
   "source": [
    "dl = iter(cat_dl)\n",
    "batch = next(dl)\n",
    "vutils.save_image(batch[0], f'{output_dir}/real_batch.png', normalize=True)"
   ]
  }
 ],
 "metadata": {
  "kernelspec": {
   "display_name": "Python 3",
   "language": "python",
   "name": "python3"
  }
 },
 "nbformat": 4,
 "nbformat_minor": 2
}
