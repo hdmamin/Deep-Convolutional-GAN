{
 "cells": [
  {
   "cell_type": "code",
   "execution_count": 7,
   "metadata": {
    "ExecuteTime": {
     "end_time": "2019-05-30T04:17:11.033046Z",
     "start_time": "2019-05-30T04:17:11.028164Z"
    }
   },
   "outputs": [],
   "source": [
    "from pathlib import Path\n",
    "import torch\n",
    "import torch.nn as nn\n",
    "from torch.utils.data import Dataset, DataLoader\n",
    "import torch.nn.functional as F"
   ]
  },
  {
   "cell_type": "code",
   "execution_count": 6,
   "metadata": {
    "ExecuteTime": {
     "end_time": "2019-05-30T04:16:36.667414Z",
     "start_time": "2019-05-30T04:16:36.532403Z"
    }
   },
   "outputs": [
    {
     "name": "stdout",
     "output_type": "stream",
     "text": [
      "\u001b[34mtx_000000000000\u001b[m\u001b[m \u001b[34mtx_000100000000\u001b[m\u001b[m\r\n"
     ]
    }
   ],
   "source": [
    "!ls sketch_data/256x256/photo"
   ]
  },
  {
   "cell_type": "code",
   "execution_count": 44,
   "metadata": {
    "ExecuteTime": {
     "end_time": "2019-05-30T04:36:42.327066Z",
     "start_time": "2019-05-30T04:36:42.321019Z"
    }
   },
   "outputs": [],
   "source": [
    "class Sketch2PixDS(Dataset):\n",
    "    \n",
    "    def __init__(self, path, type_):\n",
    "        \"\"\"\n",
    "        Parameters\n",
    "        -----------\n",
    "        type_: str\n",
    "            'photo' or 'sketch'\n",
    "        \"\"\"\n",
    "        if type_ == 'photo':\n",
    "            file_type = '.jpg'\n",
    "        elif type == 'sketch':\n",
    "            file_type = '.png'\n",
    "        self.paths = list(path.rglob(f'*{file_type}'))\n",
    "    \n",
    "    def __getitem__(self, i):\n",
    "        path = self.paths[i]\n",
    "        return str(path).split('/')[-2]\n",
    "    \n",
    "    def __len__(self):\n",
    "        pass"
   ]
  },
  {
   "cell_type": "code",
   "execution_count": 11,
   "metadata": {
    "ExecuteTime": {
     "end_time": "2019-05-30T04:20:04.862062Z",
     "start_time": "2019-05-30T04:20:04.834508Z"
    }
   },
   "outputs": [
    {
     "data": {
      "text/plain": [
       "[PosixPath('sketch_data/256x256/.DS_Store'),\n",
       " PosixPath('sketch_data/256x256/photo'),\n",
       " PosixPath('sketch_data/256x256/sketch')]"
      ]
     },
     "execution_count": 11,
     "metadata": {},
     "output_type": "execute_result"
    }
   ],
   "source": [
    "path = Path('sketch_data/256x256/')\n",
    "list(path.iterdir())"
   ]
  },
  {
   "cell_type": "code",
   "execution_count": 30,
   "metadata": {
    "ExecuteTime": {
     "end_time": "2019-05-30T04:27:57.819764Z",
     "start_time": "2019-05-30T04:27:57.809535Z"
    }
   },
   "outputs": [],
   "source": [
    "photo_path = path/'photo/tx_000100000000/elephant'"
   ]
  },
  {
   "cell_type": "code",
   "execution_count": 32,
   "metadata": {
    "ExecuteTime": {
     "end_time": "2019-05-30T04:30:34.787362Z",
     "start_time": "2019-05-30T04:30:34.783579Z"
    }
   },
   "outputs": [],
   "source": [
    "sketch_path = path/'sketch/tx_000000000110/elephant'"
   ]
  },
  {
   "cell_type": "code",
   "execution_count": 45,
   "metadata": {
    "ExecuteTime": {
     "end_time": "2019-05-30T04:36:44.875166Z",
     "start_time": "2019-05-30T04:36:44.870332Z"
    }
   },
   "outputs": [],
   "source": [
    "photo_ds = Sketch2PixDS(photo_path, 'photo')"
   ]
  },
  {
   "cell_type": "code",
   "execution_count": 46,
   "metadata": {
    "ExecuteTime": {
     "end_time": "2019-05-30T04:36:45.109717Z",
     "start_time": "2019-05-30T04:36:45.102240Z"
    }
   },
   "outputs": [
    {
     "data": {
      "text/plain": [
       "'elephant'"
      ]
     },
     "execution_count": 46,
     "metadata": {},
     "output_type": "execute_result"
    }
   ],
   "source": [
    "photo_ds[25]"
   ]
  },
  {
   "cell_type": "code",
   "execution_count": null,
   "metadata": {},
   "outputs": [],
   "source": []
  }
 ],
 "metadata": {
  "kernelspec": {
   "display_name": "Python 3",
   "language": "python",
   "name": "python3"
  },
  "language_info": {
   "codemirror_mode": {
    "name": "ipython",
    "version": 3
   },
   "file_extension": ".py",
   "mimetype": "text/x-python",
   "name": "python",
   "nbconvert_exporter": "python",
   "pygments_lexer": "ipython3",
   "version": "3.7.1"
  }
 },
 "nbformat": 4,
 "nbformat_minor": 2
}
